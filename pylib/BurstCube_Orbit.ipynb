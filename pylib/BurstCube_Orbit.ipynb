{
 "cells": [
  {
   "cell_type": "code",
   "execution_count": 1,
   "metadata": {},
   "outputs": [],
   "source": [
    "import numpy as np\n",
    "import matplotlib.pylab as plot\n",
    "import astropy.coordinates as coord\n",
    "from astropy.time import Time,TimeDelta\n",
    "from astropy.io import fits\n",
    "import tao_planning_sims\n",
    "import matplotlib.ticker as mtick"
   ]
  },
  {
   "cell_type": "code",
   "execution_count": 2,
   "metadata": {},
   "outputs": [],
   "source": [
    "mjd=59581.\n",
    "t=Time(mjd,format='mjd')\n",
    "#ft2=tao_planning_sims.read_ft2(59581.)\n",
    "ft2=fits.open('/Users/jracusin/BurstCube/orbit_sim/ft2/FT2_BC_TLE.fits')[1].data"
   ]
  },
  {
   "cell_type": "code",
   "execution_count": 3,
   "metadata": {},
   "outputs": [],
   "source": [
    "ft2dir='/Users/jracusin/BurstCube/orbit_sim/ft2/'\n",
    "mjd0=59580.\n",
    "mjds=mjd0+365.\n",
    "n='\\n'\n",
    "outfile='FT2_BC_TLE.fits'\n",
    "file='BurstCube_gtorbsim.txt'\n",
    "file=open(ft2dir+file,'w')\n",
    "file.write('start_MJD = '+str(mjd0)+n)\n",
    "file.write('stop_MJD = '+str(mjds)+n)\n",
    "file.write('TLType = SINGLE'+n)\n",
    "file.write('Timeline = |SURVEY|0.0|'+n)\n",
    "file.write('EphemFunc = tlederive'+n)\n",
    "file.write('EphemName = ISS.tle'+n)\n",
    "file.write('Units = 1.0'+n)\n",
    "file.write('Resolution = '+str(1.0)+n)\n",
    "file.write('Initial_RA = 0'+n)\n",
    "file.write('Initial_DEC = 0'+n)\n",
    "file.write('saafile = TAO_SAA_2018.01'+n)\n",
    "file.write('OutPutFile = '+ft2dir+outfile+n)\n",
    "file.close()"
   ]
  },
  {
   "cell_type": "code",
   "execution_count": null,
   "metadata": {},
   "outputs": [],
   "source": []
  },
  {
   "cell_type": "code",
   "execution_count": 10,
   "metadata": {},
   "outputs": [
    {
     "data": {
      "image/png": "[encoded data removed]",
      "text/plain": [
       "<Figure size 432x288 with 1 Axes>"
      ]
     },
     "metadata": {
      "needs_background": "light"
     },
     "output_type": "display_data"
    }
   ],
   "source": [
    "plot.figure()\n",
    "\n",
    "#time=ft2['START']-Time('2001-01-01T0:00:00').gps\n",
    "time=Time(ft2['START']+(Time('2001-01-01T0:00:00').gps-Time('1980-01-06T00:00:00').gps),format='gps')\n",
    "sun=coord.get_sun(time)\n",
    "sunra=sun.ra.value\n",
    "sundec=sun.dec.value\n",
    "sep=tao_planning_sims.separation(sunra,sundec,ft2['RA_NPOLE'],ft2['DEC_NPOLE'])\n",
    "beta=90.-sep\n",
    "\n",
    "plot.plot(time.decimalyear,beta)\n",
    "plot.xlim([2022,2023])\n",
    "plot.gca().xaxis.set_major_formatter(mtick.FormatStrFormatter('%.1f'))\n",
    "plot.ylabel('Beta Angle (deg)')\n",
    "plot.xlabel('BurstCube Mission Year')\n",
    "plot.show()"
   ]
  },
  {
   "cell_type": "code",
   "execution_count": 5,
   "metadata": {},
   "outputs": [
    {
     "data": {
      "text/plain": [
       "ColDefs(\n",
       "    name = 'START'; format = 'D'; unit = 's'\n",
       "    name = 'STOP'; format = 'D'; unit = 's'\n",
       "    name = 'SC_POSITION'; format = '3E'; unit = 'm'\n",
       "    name = 'LAT_GEO'; format = 'E'; unit = 'deg'\n",
       "    name = 'LON_GEO'; format = 'E'; unit = 'deg'\n",
       "    name = 'RAD_GEO'; format = 'D'; unit = 'm'\n",
       "    name = 'RA_ZENITH'; format = 'E'; unit = 'deg'\n",
       "    name = 'DEC_ZENITH'; format = 'E'; unit = 'deg'\n",
       "    name = 'B_MCILWAIN'; format = 'E'; unit = 'Gauss'\n",
       "    name = 'L_MCILWAIN'; format = 'E'; unit = 'Earth_Radii'\n",
       "    name = 'GEOMAG_LAT'; format = 'E'; unit = 'deg'\n",
       "    name = 'IN_SAA'; format = 'L'\n",
       "    name = 'RA_SCZ'; format = 'E'; unit = 'deg'\n",
       "    name = 'DEC_SCZ'; format = 'E'; unit = 'deg'\n",
       "    name = 'RA_SCX'; format = 'E'; unit = 'deg'\n",
       "    name = 'DEC_SCX'; format = 'E'; unit = 'deg'\n",
       "    name = 'RA_NPOLE'; format = 'E'; unit = 'deg'\n",
       "    name = 'DEC_NPOLE'; format = 'E'; unit = 'deg'\n",
       "    name = 'ROCK_ANGLE'; format = 'E'; unit = 'deg'\n",
       "    name = 'LAT_MODE'; format = 'J'\n",
       "    name = 'LAT_CONFIG'; format = 'B'\n",
       "    name = 'DATA_QUAL'; format = 'B'\n",
       "    name = 'LIVETIME'; format = 'D'; unit = 's'\n",
       "    name = 'QSJ_1'; format = 'D'\n",
       "    name = 'QSJ_2'; format = 'D'\n",
       "    name = 'QSJ_3'; format = 'D'\n",
       "    name = 'QSJ_4'; format = 'D'\n",
       ")"
      ]
     },
     "execution_count": 5,
     "metadata": {},
     "output_type": "execute_result"
    }
   ],
   "source": [
    "ft2.columns"
   ]
  },
  {
   "cell_type": "code",
   "execution_count": 6,
   "metadata": {},
   "outputs": [],
   "source": [
    "saa=np.where(ft2['IN_SAA']==1)[0]"
   ]
  },
  {
   "cell_type": "code",
   "execution_count": 7,
   "metadata": {},
   "outputs": [
    {
     "name": "stdout",
     "output_type": "stream",
     "text": [
      "0.162998167812\n"
     ]
    }
   ],
   "source": [
    "print float(len(saa))/len(ft2)"
   ]
  },
  {
   "cell_type": "code",
   "execution_count": 24,
   "metadata": {},
   "outputs": [
    {
     "name": "stdout",
     "output_type": "stream",
     "text": [
      "0.6111356502797248\n"
     ]
    }
   ],
   "source": [
    "#duration can be calculated by the equation:\n",
    "\n",
    "r_eq=6378.14 #km (Earth radius)\n",
    "r_sat=r_eq+408. #km (distance between earth center and the satellite)\n",
    "R=np.arcsin(r_eq/r_sat)\n",
    "Ts=2*R/360.*90.\n",
    "# R=r_eq/r_sat\n",
    "# Ts=(24/np.pi)*np.arccos(np.sqrt(1.-R**2))/np.sin(np.radians(beta))\n",
    "print Ts"
   ]
  },
  {
   "cell_type": "code",
   "execution_count": null,
   "metadata": {},
   "outputs": [],
   "source": []
  }
 ],
 "metadata": {
  "kernelspec": {
   "display_name": "Python 2",
   "language": "python",
   "name": "python2"
  },
  "language_info": {
   "codemirror_mode": {
    "name": "ipython",
    "version": 2
   },
   "file_extension": ".py",
   "mimetype": "text/x-python",
   "name": "python",
   "nbconvert_exporter": "python",
   "pygments_lexer": "ipython2",
   "version": "2.7.15"
  }
 },
 "nbformat": 4,
 "nbformat_minor": 2
}
