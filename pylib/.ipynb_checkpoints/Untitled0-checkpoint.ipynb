{
 "metadata": {
  "name": "",
  "signature": "sha256:971d0ea9d62ae0d092a6998020d98fdf51f2f228e707f3ac20e420f8795d72c4"
 },
 "nbformat": 3,
 "nbformat_minor": 0,
 "worksheets": []
}