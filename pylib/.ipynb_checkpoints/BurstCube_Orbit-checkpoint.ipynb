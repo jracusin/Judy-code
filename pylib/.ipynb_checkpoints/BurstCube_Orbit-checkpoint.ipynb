{
 "cells": [
  {
   "cell_type": "code",
   "execution_count": 1,
   "metadata": {},
   "outputs": [],
   "source": [
    "import numpy as np\n",
    "import matplotlib.pylab as plot\n",
    "import astropy.coordinates as coord\n",
    "from astropy.time import Time,TimeDelta\n",
    "import tao_planning_sims"
   ]
  },
  {
   "cell_type": "code",
   "execution_count": 2,
   "metadata": {},
   "outputs": [
    {
     "name": "stdout",
     "output_type": "stream",
     "text": [
      "/Users/jracusin/Lobster/TAO_2016/simulations/FT2/FT2_TAO_TLE_MW0.fits\n"
     ]
    }
   ],
   "source": [
    "mjd=59581.\n",
    "t=Time(mjd,format='mjd')\n",
    "ft2=tao_planning_sims.read_ft2(59581.)"
   ]
  },
  {
   "cell_type": "code",
   "execution_count": 5,
   "metadata": {},
   "outputs": [],
   "source": [
    "ft2dir='/Users/jracusin/BurstCube/orbit_sim/ft2/'\n",
    "mjd0=59580\n",
    "mjds=mjd0+1\n",
    "n='\\n'\n",
    "outfile='FT2_BC_TLE.fits'\n",
    "file='BurstCube_gtorbsim.txt'\n",
    "file=open(ft2dir+file,'w')\n",
    "file.write('start_MJD = '+str(mjd0)+n)\n",
    "file.write('stop_MJD = '+str(mjds)+n)\n",
    "file.write('TLType = SINGLE'+n)\n",
    "file.write('Timeline = |SURVEY|0.0|'+n)\n",
    "file.write('EphemFunc = tlederive'+n)\n",
    "file.write('EphemName = ISS.tle'+n)\n",
    "file.write('Units = 1.0'+n)\n",
    "file.write('Resolution = '+str(600./60.)+n)\n",
    "file.write('Initial_RA = 0'+n)\n",
    "file.write('Initial_DEC = 0'+n)\n",
    "file.write('saafile = TAO_SAA_2018.01'+n)\n",
    "file.write('OutPutFile = '+ft2dir+outfile+n)\n",
    "file.close()"
   ]
  },
  {
   "cell_type": "code",
   "execution_count": 21,
   "metadata": {},
   "outputs": [
    {
     "name": "stderr",
     "output_type": "stream",
     "text": [
      "WARNING: ErfaWarning: ERFA function \"d2dtf\" yielded 1 of \"dubious year (Note 5)\" [astropy._erfa.core]\n",
      "WARNING: ErfaWarning: ERFA function \"dtf2d\" yielded 1 of \"dubious year (Note 6)\" [astropy._erfa.core]\n"
     ]
    },
    {
     "data": {
      "text/plain": [
       "2022.0027397260274"
      ]
     },
     "execution_count": 21,
     "metadata": {},
     "output_type": "execute_result"
    }
   ],
   "source": [
    "sun=coord.get_sun(t)\n",
    "sunra=sun.ra.value\n",
    "sundec=sun.dec.value"
   ]
  },
  {
   "cell_type": "code",
   "execution_count": 33,
   "metadata": {},
   "outputs": [
    {
     "data": {
      "image/png": "[encoded data removed]",
      "text/plain": [
       "<Figure size 432x288 with 1 Axes>"
      ]
     },
     "metadata": {},
     "output_type": "display_data"
    }
   ],
   "source": [
    "plot.figure()\n",
    "sep=tao_planning_sims.separation(sunra,sundec,ft2['RA_NPOLE'],ft2['DEC_NPOLE'])-90.\n",
    "#time=ft2['START']-Time('2001-01-01T0:00:00').gps\n",
    "time=Time(ft2['START']+(Time('2001-01-01T0:00:00').gps-Time('1980-01-06T00:00:00').gps),format='gps')\n",
    "plot.plot(time.decimalyear,sep)\n",
    "plot.xlim([2022,2022.1])\n",
    "plot.show()"
   ]
  },
  {
   "cell_type": "code",
   "execution_count": null,
   "metadata": {},
   "outputs": [],
   "source": []
  }
 ],
 "metadata": {
  "kernelspec": {
   "display_name": "Python 2",
   "language": "python",
   "name": "python2"
  },
  "language_info": {
   "codemirror_mode": {
    "name": "ipython",
    "version": 2
   },
   "file_extension": ".py",
   "mimetype": "text/x-python",
   "name": "python",
   "nbconvert_exporter": "python",
   "pygments_lexer": "ipython2",
   "version": "2.7.15"
  }
 },
 "nbformat": 4,
 "nbformat_minor": 2
}
