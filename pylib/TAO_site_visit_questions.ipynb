{
 "cells": [
  {
   "cell_type": "code",
   "execution_count": 1,
   "metadata": {},
   "outputs": [],
   "source": [
    "import tao_planning_sims\n",
    "import numpy as np\n",
    "import matplotlib.pylab as plot"
   ]
  },
  {
   "cell_type": "code",
   "execution_count": 2,
   "metadata": {},
   "outputs": [],
   "source": [
    "def gaussian(x,m,sigma):\n",
    "    return 1./(sigma*np.sqrt(2*np.pi))*np.exp(-0.5*((x-m)/sigma)**2)\n",
    "#    return 1./(sigma)*np.exp(-0.5*((x-m)/sigma)**2)"
   ]
  },
  {
   "cell_type": "code",
   "execution_count": 38,
   "metadata": {},
   "outputs": [
    {
     "data": {
      "image/png": "[encoded data removed]",
      "text/plain": [
       "<Figure size 432x288 with 1 Axes>"
      ]
     },
     "metadata": {},
     "output_type": "display_data"
    },
    {
     "name": "stdout",
     "output_type": "stream",
     "text": [
      "1 288 1000\n"
     ]
    },
    {
     "data": {
      "image/png": "[encoded data removed]",
      "text/plain": [
       "<Figure size 432x288 with 1 Axes>"
      ]
     },
     "metadata": {},
     "output_type": "display_data"
    },
    {
     "name": "stdout",
     "output_type": "stream",
     "text": [
      "16.584734734734734 16.36565997997998\n",
      "7.4234476291333\n"
     ]
    }
   ],
   "source": [
    "n=90\n",
    "m=16.\n",
    "sigma=10.\n",
    "bins=1000\n",
    "f=np.linspace(0.01,n,bins)\n",
    "p=gaussian(f,m,sigma)\n",
    "p=p/np.sum(p)\n",
    "r=np.random.choice(1000,size=1000,p=p)\n",
    "plot.figure()\n",
    "hist=plot.histogram(f[r],bins=50)\n",
    "plot.bar(hist[1][0:-1],hist[0]*1./np.sum(hist[0]),1.1)\n",
    "plot.xlabel('Jet Opening Angle (deg)',fontsize=14)\n",
    "plot.ylabel('Probability',fontsize=14)\n",
    "ax = plot.gca()\n",
    "ax.tick_params(axis = 'both', which = 'major', labelsize = 14)\n",
    "ax.tick_params(axis = 'both', which = 'minor', labelsize = 14)\n",
    "plot.tight_layout()\n",
    "plot.savefig('/Users/jracusin/TAO/simulations/opening_angle_dist.png')\n",
    "plot.show()\n",
    "\n",
    "p=gaussian(f,m,sigma)\n",
    "wg=np.where(f>=26.)[0]\n",
    "p[wg[0]-1]=np.sum(p[wg[0]:])\n",
    "p[wg[0]:]=0\n",
    "p=p/np.sum(p)\n",
    "r=np.random.choice(1000,size=1000,p=p)\n",
    "print min(r),max(r),len(f)\n",
    "ja=f[r]\n",
    "plot.figure()\n",
    "plot.hist(ja,bins=50)\n",
    "plot.show()\n",
    "print np.median(ja),np.mean(ja)\n",
    "print np.std(ja)\n",
    "#g=g/np.trapz(g,f)\n",
    "#w=np.where(g == max(g))[0][0]\n",
    "#f=f/f[w]*16"
   ]
  },
  {
   "cell_type": "code",
   "execution_count": null,
   "metadata": {},
   "outputs": [],
   "source": [
    "p=gaussian(f,m,sigma)\n",
    "p=p/np.sum(p)\n",
    "c=np.zeros(len(p))\n",
    "for i in range(len(p)):\n",
    "    c[i]=np.sum(p[i:])\n",
    "print f[np.where(c <= 0.01)[0][0]]"
   ]
  },
  {
   "cell_type": "code",
   "execution_count": null,
   "metadata": {},
   "outputs": [],
   "source": [
    "plot.figure()\n",
    "bf=1-np.cos(np.radians(f))\n",
    "r=np.random.choice(1000,size=10000,p=g)\n",
    "b=np.degrees(np.arccos(1-bf[r]))\n",
    "plot.hist(b,bins=50)\n",
    "plot.show()\n",
    "print np.median(b),np.mean(b),np.std(b)"
   ]
  },
  {
   "cell_type": "code",
   "execution_count": null,
   "metadata": {},
   "outputs": [],
   "source": [
    "b=(1-np.cos(np.radians(f)))\n",
    "#v=np.degrees(np.arccos(1-(b[np.random.choice(len(g),size=1000,p=g/np.sum(g))])))\n",
    "v=f[np.random.choice(len(g),size=1000,p=g/np.sum(g))]\n",
    "plot.figure()\n",
    "plot.hist(v)\n",
    "plot.plot([16,16],[0,300])\n",
    "plot.show()"
   ]
  },
  {
   "cell_type": "code",
   "execution_count": null,
   "metadata": {},
   "outputs": [],
   "source": [
    "b=(1-np.cos(np.radians(f)))\n",
    "print np.trapz(g[f<=6],f[f<=6])/np.trapz(g,f)\n",
    "print np.trapz(g[f>=26],f[f>=26])/np.trapz(g,f)"
   ]
  },
  {
   "cell_type": "code",
   "execution_count": null,
   "metadata": {},
   "outputs": [],
   "source": [
    "plot.figure()\n",
    "plot.plot(f,g)\n",
    "plot.xlabel('Jet opening angle (deg)')\n",
    "plot.ylabel('p')\n",
    "#plot.plot([0,30],np.array([0.32,0.32])*max(g))\n",
    "plot.plot([6,6],[0,1])\n",
    "plot.plot([16,16],[0,1])\n",
    "plot.plot([26,26],[0,1])\n",
    "plot.ylim([0,0.05])\n",
    "plot.show()"
   ]
  },
  {
   "cell_type": "code",
   "execution_count": null,
   "metadata": {},
   "outputs": [],
   "source": [
    "plot.plot(f,b)\n",
    "plot.ylabel('beaming fraction')\n",
    "plot.xlabel('Jet opening angle (deg)')\n",
    "plot.show()"
   ]
  },
  {
   "cell_type": "code",
   "execution_count": null,
   "metadata": {},
   "outputs": [],
   "source": [
    "plot.plot(f,b*g)\n",
    "plot.xlabel('Jet opening angle (deg)')\n",
    "plot.ylabel('beaming fraction * probability')\n",
    "plot.show()"
   ]
  },
  {
   "cell_type": "code",
   "execution_count": null,
   "metadata": {},
   "outputs": [],
   "source": [
    "x=np.average(b,weights=g)\n",
    "x2=np.sum(b*g)/np.sum(g)\n",
    "print x,x2\n",
    "print f[np.argmax(g)]\n",
    "ang=np.degrees(np.arccos(1-x))\n",
    "ang2=np.degrees(np.arccos(1-x2))\n",
    "print ang, ang2"
   ]
  },
  {
   "cell_type": "code",
   "execution_count": null,
   "metadata": {},
   "outputs": [],
   "source": []
  },
  {
   "cell_type": "code",
   "execution_count": null,
   "metadata": {},
   "outputs": [],
   "source": []
  },
  {
   "cell_type": "code",
   "execution_count": null,
   "metadata": {},
   "outputs": [],
   "source": []
  }
 ],
 "metadata": {
  "kernelspec": {
   "display_name": "Python 2",
   "language": "python",
   "name": "python2"
  },
  "language_info": {
   "codemirror_mode": {
    "name": "ipython",
    "version": 2
   },
   "file_extension": ".py",
   "mimetype": "text/x-python",
   "name": "python",
   "nbconvert_exporter": "python",
   "pygments_lexer": "ipython2",
   "version": "2.7.15"
  }
 },
 "nbformat": 4,
 "nbformat_minor": 2
}
